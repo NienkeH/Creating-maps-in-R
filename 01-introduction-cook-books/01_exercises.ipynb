{
  "cells": [
    {
      "cell_type": "markdown",
      "metadata": {
        "id": "view-in-github",
        "colab_type": "text"
      },
      "source": [
        "<a href=\"https://colab.research.google.com/github/NienkeH/Creating-maps-in-R/blob/master/01-introduction-cook-books/01_exercises.ipynb\" target=\"_parent\"><img src=\"https://colab.research.google.com/assets/colab-badge.svg\" alt=\"Open In Colab\"/></a>"
      ]
    },
    {
      "cell_type": "code",
      "execution_count": 1,
      "id": "18f38471",
      "metadata": {
        "id": "18f38471",
        "outputId": "6ca7db57-12ed-47a3-ec12-81a01171bb41",
        "colab": {
          "base_uri": "https://localhost:8080/"
        }
      },
      "outputs": [
        {
          "output_type": "stream",
          "name": "stdout",
          "text": [
            "Requirement already satisfied: numpy<2,>=1.13 in /usr/local/lib/python3.10/dist-packages (1.26.4)\n",
            "Collecting pandas~=1.1\n",
            "  Downloading pandas-1.5.3-cp310-cp310-manylinux_2_17_x86_64.manylinux2014_x86_64.whl.metadata (11 kB)\n",
            "Requirement already satisfied: matplotlib<4,>=2.1 in /usr/local/lib/python3.10/dist-packages (3.8.0)\n",
            "Requirement already satisfied: scipy<2,>=0.18 in /usr/local/lib/python3.10/dist-packages (1.13.1)\n",
            "Requirement already satisfied: scikit-learn>=0.19 in /usr/local/lib/python3.10/dist-packages (1.5.2)\n",
            "Collecting mpl-axes-aligner<2,>=1.1\n",
            "  Downloading mpl_axes_aligner-1.3.tar.gz (3.9 kB)\n",
            "  Preparing metadata (setup.py) ... \u001b[?25l\u001b[?25hdone\n",
            "Requirement already satisfied: python-dateutil>=2.8.1 in /usr/local/lib/python3.10/dist-packages (from pandas~=1.1) (2.8.2)\n",
            "Requirement already satisfied: pytz>=2020.1 in /usr/local/lib/python3.10/dist-packages (from pandas~=1.1) (2024.2)\n",
            "Requirement already satisfied: contourpy>=1.0.1 in /usr/local/lib/python3.10/dist-packages (from matplotlib<4,>=2.1) (1.3.0)\n",
            "Requirement already satisfied: cycler>=0.10 in /usr/local/lib/python3.10/dist-packages (from matplotlib<4,>=2.1) (0.12.1)\n",
            "Requirement already satisfied: fonttools>=4.22.0 in /usr/local/lib/python3.10/dist-packages (from matplotlib<4,>=2.1) (4.54.1)\n",
            "Requirement already satisfied: kiwisolver>=1.0.1 in /usr/local/lib/python3.10/dist-packages (from matplotlib<4,>=2.1) (1.4.7)\n",
            "Requirement already satisfied: packaging>=20.0 in /usr/local/lib/python3.10/dist-packages (from matplotlib<4,>=2.1) (24.1)\n",
            "Requirement already satisfied: pillow>=6.2.0 in /usr/local/lib/python3.10/dist-packages (from matplotlib<4,>=2.1) (10.4.0)\n",
            "Requirement already satisfied: pyparsing>=2.3.1 in /usr/local/lib/python3.10/dist-packages (from matplotlib<4,>=2.1) (3.2.0)\n",
            "Requirement already satisfied: joblib>=1.2.0 in /usr/local/lib/python3.10/dist-packages (from scikit-learn>=0.19) (1.4.2)\n",
            "Requirement already satisfied: threadpoolctl>=3.1.0 in /usr/local/lib/python3.10/dist-packages (from scikit-learn>=0.19) (3.5.0)\n",
            "Requirement already satisfied: six>=1.5 in /usr/local/lib/python3.10/dist-packages (from python-dateutil>=2.8.1->pandas~=1.1) (1.16.0)\n",
            "Downloading pandas-1.5.3-cp310-cp310-manylinux_2_17_x86_64.manylinux2014_x86_64.whl (12.1 MB)\n",
            "\u001b[2K   \u001b[90m━━━━━━━━━━━━━━━━━━━━━━━━━━━━━━━━━━━━━━━━\u001b[0m \u001b[32m12.1/12.1 MB\u001b[0m \u001b[31m23.0 MB/s\u001b[0m eta \u001b[36m0:00:00\u001b[0m\n",
            "\u001b[?25hBuilding wheels for collected packages: mpl-axes-aligner\n",
            "  Building wheel for mpl-axes-aligner (setup.py) ... \u001b[?25l\u001b[?25hdone\n",
            "  Created wheel for mpl-axes-aligner: filename=mpl_axes_aligner-1.3-py3-none-any.whl size=4755 sha256=43e8ba2aa7e9b0f9aedc6734671ec5916fe8b0a38e945c6d3bf1c75f0e1532e5\n",
            "  Stored in directory: /root/.cache/pip/wheels/7d/57/ec/c27bcb29ff0f39ee5a71ed59474a92503b2a0112f4a283429b\n",
            "Successfully built mpl-axes-aligner\n",
            "Installing collected packages: pandas, mpl-axes-aligner\n",
            "  Attempting uninstall: pandas\n",
            "    Found existing installation: pandas 2.2.2\n",
            "    Uninstalling pandas-2.2.2:\n",
            "      Successfully uninstalled pandas-2.2.2\n",
            "\u001b[31mERROR: pip's dependency resolver does not currently take into account all the packages that are installed. This behaviour is the source of the following dependency conflicts.\n",
            "cudf-cu12 24.10.1 requires pandas<2.2.3dev0,>=2.0, but you have pandas 1.5.3 which is incompatible.\n",
            "google-colab 1.0.0 requires pandas==2.2.2, but you have pandas 1.5.3 which is incompatible.\n",
            "mizani 0.13.0 requires pandas>=2.2.0, but you have pandas 1.5.3 which is incompatible.\n",
            "plotnine 0.14.0 requires pandas>=2.2.0, but you have pandas 1.5.3 which is incompatible.\n",
            "xarray 2024.10.0 requires pandas>=2.1, but you have pandas 1.5.3 which is incompatible.\u001b[0m\u001b[31m\n",
            "\u001b[0mSuccessfully installed mpl-axes-aligner-1.3 pandas-1.5.3\n"
          ]
        }
      ],
      "source": [
        "!pip install \"numpy<2,>=1.13\" \"pandas~=1.1\" \"matplotlib<4,>=2.1\" \"scipy<2,>=0.18\" \"scikit-learn>=0.19\" \"mpl-axes-aligner<2,>=1.1\""
      ]
    },
    {
      "cell_type": "code",
      "source": [
        "!git clone https://github.com/CANAL-amsterdam/Foundations-of-Cultural-and-Social-Data-Analysis\n",
        "%cd Foundations-of-Cultural-and-Social-Data-Analysis/01-introduction-cook-books\n",
        "!ls"
      ],
      "metadata": {
        "id": "vQiMJruP9ICd",
        "outputId": "ca440e60-0fe0-418b-ca68-dee2e3dadc2c",
        "colab": {
          "base_uri": "https://localhost:8080/"
        }
      },
      "id": "vQiMJruP9ICd",
      "execution_count": 2,
      "outputs": [
        {
          "output_type": "stream",
          "name": "stdout",
          "text": [
            "Cloning into 'Foundations-of-Cultural-and-Social-Data-Analysis'...\n",
            "remote: Enumerating objects: 1019, done.\u001b[K\n",
            "remote: Counting objects: 100% (98/98), done.\u001b[K\n",
            "remote: Compressing objects: 100% (92/92), done.\u001b[K\n",
            "remote: Total 1019 (delta 38), reused 21 (delta 6), pack-reused 921 (from 1)\u001b[K\n",
            "Receiving objects: 100% (1019/1019), 204.51 MiB | 16.19 MiB/s, done.\n",
            "Resolving deltas: 100% (117/117), done.\n",
            "Updating files: 100% (41/41), done.\n",
            "/content/Foundations-of-Cultural-and-Social-Data-Analysis/01-introduction-cook-books\n",
            "01_chapter.ipynb  01_exercises.ipynb  data\n"
          ]
        }
      ]
    },
    {
      "cell_type": "code",
      "execution_count": 3,
      "id": "ff695cf4",
      "metadata": {
        "id": "ff695cf4"
      },
      "outputs": [],
      "source": [
        "import math\n",
        "import pandas as pd\n",
        "import matplotlib.pyplot as plt\n",
        "import scipy.stats\n",
        "from sklearn.feature_selection import chi2"
      ]
    },
    {
      "cell_type": "code",
      "execution_count": 6,
      "id": "5ec9c9b8",
      "metadata": {
        "id": "5ec9c9b8"
      },
      "outputs": [],
      "source": [
        "def plot_trend(column, df, line_color='grey', xlim=(1810, 1930)):\n",
        "    slope, intercept, _, _, _ = scipy.stats.linregress(\n",
        "        df.index, df[column].fillna(0).values)\n",
        "    ax = df[column].plot(style='o', label=column)\n",
        "    ax.plot(df.index, intercept + slope * df.index, '--',\n",
        "             color=line_color, label='_nolegend_')\n",
        "    ax.set_ylabel(\"fraction of recipes\")\n",
        "    ax.set_xlabel(\"year of publication\")\n",
        "    ax.set_xlim(xlim)"
      ]
    },
    {
      "cell_type": "code",
      "execution_count": 7,
      "metadata": {
        "id": "hospjojUed3q"
      },
      "outputs": [],
      "source": [
        "import pandas as pd\n",
        "\n",
        "df = pd.read_csv(\"data/feeding-america.csv\", index_col='date')"
      ],
      "id": "hospjojUed3q"
    },
    {
      "cell_type": "code",
      "source": [
        "df['region'].value_counts()"
      ],
      "metadata": {
        "id": "pdmWgrwjehyG",
        "outputId": "3f0d4118-93db-4029-9b0c-f9fb784ef0f0",
        "colab": {
          "base_uri": "https://localhost:8080/",
          "height": 272
        }
      },
      "id": "pdmWgrwjehyG",
      "execution_count": 8,
      "outputs": [
        {
          "output_type": "execute_result",
          "data": {
            "text/plain": [
              "general      35508\n",
              "ethnic        7040\n",
              "midwest       2043\n",
              "northeast     1320\n",
              "south         1094\n",
              "west          1027\n",
              "Name: region, dtype: int64"
            ],
            "text/html": [
              "<div>\n",
              "<style scoped>\n",
              "    .dataframe tbody tr th:only-of-type {\n",
              "        vertical-align: middle;\n",
              "    }\n",
              "\n",
              "    .dataframe tbody tr th {\n",
              "        vertical-align: top;\n",
              "    }\n",
              "\n",
              "    .dataframe thead th {\n",
              "        text-align: right;\n",
              "    }\n",
              "</style>\n",
              "<table border=\"1\" class=\"dataframe\">\n",
              "  <thead>\n",
              "    <tr style=\"text-align: right;\">\n",
              "      <th></th>\n",
              "      <th>region</th>\n",
              "    </tr>\n",
              "  </thead>\n",
              "  <tbody>\n",
              "    <tr>\n",
              "      <th>general</th>\n",
              "      <td>35508</td>\n",
              "    </tr>\n",
              "    <tr>\n",
              "      <th>ethnic</th>\n",
              "      <td>7040</td>\n",
              "    </tr>\n",
              "    <tr>\n",
              "      <th>midwest</th>\n",
              "      <td>2043</td>\n",
              "    </tr>\n",
              "    <tr>\n",
              "      <th>northeast</th>\n",
              "      <td>1320</td>\n",
              "    </tr>\n",
              "    <tr>\n",
              "      <th>south</th>\n",
              "      <td>1094</td>\n",
              "    </tr>\n",
              "    <tr>\n",
              "      <th>west</th>\n",
              "      <td>1027</td>\n",
              "    </tr>\n",
              "  </tbody>\n",
              "</table>\n",
              "</div><br><label><b>dtype:</b> int64</label>"
            ]
          },
          "metadata": {},
          "execution_count": 8
        }
      ]
    },
    {
      "cell_type": "code",
      "source": [
        "df['region'].value_counts().plot(kind='bar', width=0.8)"
      ],
      "metadata": {
        "id": "mxWi8497e3lX",
        "outputId": "c9d8ef8f-8a43-49c5-97a3-307e6e79e98e",
        "colab": {
          "base_uri": "https://localhost:8080/",
          "height": 500
        }
      },
      "id": "mxWi8497e3lX",
      "execution_count": 10,
      "outputs": [
        {
          "output_type": "execute_result",
          "data": {
            "text/plain": [
              "<Axes: >"
            ]
          },
          "metadata": {},
          "execution_count": 10
        },
        {
          "output_type": "display_data",
          "data": {
            "text/plain": [
              "<Figure size 640x480 with 1 Axes>"
            ],
            "image/png": "[encoded data removed]"
          },
          "metadata": {}
        }
      ]
    },
    {
      "cell_type": "markdown",
      "id": "1c82301b",
      "metadata": {
        "id": "1c82301b"
      },
      "source": [
        "## Exercises\n",
        "\n",
        "### Easy\n",
        "1. Load the cookbook data set, and extract the \"region\" column. Print the number of unique\n",
        "   regions in the data set.\n",
        "2. Using the same \"region\" column, produce a frequency distribution of the regions in the\n",
        "   data.\n",
        "3. Create a bar plot of the different regions annotated in the dataset.\n",
        "\n",
        "### Moderate\n",
        "1. Use the function `plot_trend()` to create a time series plot for three or more ingredients of your\n",
        "   own choice.\n",
        "2. Go back to section `Taste Trends in Culinary US History`. Create a bar plot of\n",
        "   the ten most distinctive ingredients for the pre- and postwar era using as keyness\n",
        "   measure the Pearson's $\\chi^2$ test statistic.\n",
        "3. With the invention of baking powder, cooking efficiency went up. Could there be a\n",
        "   relationship between the increased use of baking powder and the number of recipes\n",
        "   describing cakes, sweets, and bread? (The latter recipes have the value `\"breadsweets\"`\n",
        "   in the `recipe_class` column in the original data.) Produce two time series plots: one\n",
        "   for the absolute number of recipes involving baking powder as ingredient, and a second\n",
        "   plotting the absolute number `\"breadsweets\"` recipes over time.\n",
        "\n",
        "### Challenging\n",
        "1. Use the code to produce the scatter plot from section\n",
        "   `Taste Trends in Culinary US History`, and experiment with different time frame\n",
        "   settings to find distinctive words for other time periods. For example, can you compare\n",
        "   twentieth-century recipes to nineteenth-century recipes?\n",
        "2. Adapt the scatter plot code from section\n",
        "   `America's Culinary Melting Pot` to find distinctive ingredients for\n",
        "   two specific ethnic groups. (You could, for instance, contrast typical ingredients from\n",
        "   the Jewish cuisine with those from the Creole culinary tradition.) How do these results\n",
        "   differ from the ethnicity plot we created before? (Hint: For this\n",
        "   exercise, you could simply adapt the very final code block of the chapter and use the\n",
        "   somewhat simplified keyness measure proposed there.)\n",
        "3. Use the \"region\" column to create a scatter plot of distinctive ingredients in the\n",
        "   northeast of the United States versus the ingredients used in the midwest. To make\n",
        "   things harder on yourself, you could use Pearson's $\\chi^2$ test statistic as a keyness\n",
        "   measure."
      ]
    }
  ],
  "metadata": {
    "jupytext": {
      "cell_metadata_filter": "-all",
      "formats": "md:myst",
      "text_representation": {
        "extension": ".md",
        "format_name": "myst",
        "format_version": 0.13,
        "jupytext_version": "1.10.3"
      }
    },
    "kernelspec": {
      "display_name": "Python 3 (ipykernel)",
      "language": "python",
      "name": "python3"
    },
    "language_info": {
      "codemirror_mode": {
        "name": "ipython",
        "version": 3
      },
      "file_extension": ".py",
      "mimetype": "text/x-python",
      "name": "python",
      "nbconvert_exporter": "python",
      "pygments_lexer": "ipython3",
      "version": "3.9.19"
    },
    "source_map": [
      16,
      20,
      245,
      247,
      254,
      256,
      264,
      266,
      278,
      282,
      290,
      293,
      297,
      301,
      307,
      311,
      316,
      318,
      323,
      325,
      334,
      339,
      354,
      356,
      362,
      365,
      373,
      385,
      392,
      397,
      517,
      521,
      533,
      535,
      546,
      548,
      556,
      558,
      566,
      568,
      578,
      580,
      590,
      598,
      626,
      637,
      647,
      649,
      666,
      670,
      680,
      694,
      696,
      714,
      718,
      738,
      740,
      764,
      775,
      780,
      782,
      805,
      829,
      896,
      898,
      911,
      928,
      947,
      977
    ],
    "colab": {
      "provenance": [],
      "include_colab_link": true
    }
  },
  "nbformat": 4,
  "nbformat_minor": 5
}