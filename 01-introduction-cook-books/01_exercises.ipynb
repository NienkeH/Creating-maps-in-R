{
  "cells": [
    {
      "cell_type": "markdown",
      "metadata": {
        "id": "view-in-github",
        "colab_type": "text"
      },
      "source": [
        "<a href=\"https://colab.research.google.com/github/NienkeH/Creating-maps-in-R/blob/master/01-introduction-cook-books/01_exercises.ipynb\" target=\"_parent\"><img src=\"https://colab.research.google.com/assets/colab-badge.svg\" alt=\"Open In Colab\"/></a>"
      ]
    },
    {
      "cell_type": "code",
      "execution_count": 1,
      "id": "18f38471",
      "metadata": {
        "id": "18f38471",
        "outputId": "9f1f0796-a5a3-45de-9785-847614fb9e5a",
        "colab": {
          "base_uri": "https://localhost:8080/"
        }
      },
      "outputs": [
        {
          "output_type": "stream",
          "name": "stdout",
          "text": [
            "Requirement already satisfied: numpy<2,>=1.13 in /usr/local/lib/python3.10/dist-packages (1.26.4)\n",
            "Collecting pandas~=1.1\n",
            "  Downloading pandas-1.5.3-cp310-cp310-manylinux_2_17_x86_64.manylinux2014_x86_64.whl.metadata (11 kB)\n",
            "Requirement already satisfied: matplotlib<4,>=2.1 in /usr/local/lib/python3.10/dist-packages (3.8.0)\n",
            "Requirement already satisfied: scipy<2,>=0.18 in /usr/local/lib/python3.10/dist-packages (1.13.1)\n",
            "Requirement already satisfied: scikit-learn>=0.19 in /usr/local/lib/python3.10/dist-packages (1.5.2)\n",
            "Collecting mpl-axes-aligner<2,>=1.1\n",
            "  Downloading mpl_axes_aligner-1.3.tar.gz (3.9 kB)\n",
            "  Preparing metadata (setup.py) ... \u001b[?25l\u001b[?25hdone\n",
            "Requirement already satisfied: python-dateutil>=2.8.1 in /usr/local/lib/python3.10/dist-packages (from pandas~=1.1) (2.8.2)\n",
            "Requirement already satisfied: pytz>=2020.1 in /usr/local/lib/python3.10/dist-packages (from pandas~=1.1) (2024.2)\n",
            "Requirement already satisfied: contourpy>=1.0.1 in /usr/local/lib/python3.10/dist-packages (from matplotlib<4,>=2.1) (1.3.0)\n",
            "Requirement already satisfied: cycler>=0.10 in /usr/local/lib/python3.10/dist-packages (from matplotlib<4,>=2.1) (0.12.1)\n",
            "Requirement already satisfied: fonttools>=4.22.0 in /usr/local/lib/python3.10/dist-packages (from matplotlib<4,>=2.1) (4.54.1)\n",
            "Requirement already satisfied: kiwisolver>=1.0.1 in /usr/local/lib/python3.10/dist-packages (from matplotlib<4,>=2.1) (1.4.7)\n",
            "Requirement already satisfied: packaging>=20.0 in /usr/local/lib/python3.10/dist-packages (from matplotlib<4,>=2.1) (24.1)\n",
            "Requirement already satisfied: pillow>=6.2.0 in /usr/local/lib/python3.10/dist-packages (from matplotlib<4,>=2.1) (10.4.0)\n",
            "Requirement already satisfied: pyparsing>=2.3.1 in /usr/local/lib/python3.10/dist-packages (from matplotlib<4,>=2.1) (3.2.0)\n",
            "Requirement already satisfied: joblib>=1.2.0 in /usr/local/lib/python3.10/dist-packages (from scikit-learn>=0.19) (1.4.2)\n",
            "Requirement already satisfied: threadpoolctl>=3.1.0 in /usr/local/lib/python3.10/dist-packages (from scikit-learn>=0.19) (3.5.0)\n",
            "Requirement already satisfied: six>=1.5 in /usr/local/lib/python3.10/dist-packages (from python-dateutil>=2.8.1->pandas~=1.1) (1.16.0)\n",
            "Downloading pandas-1.5.3-cp310-cp310-manylinux_2_17_x86_64.manylinux2014_x86_64.whl (12.1 MB)\n",
            "\u001b[2K   \u001b[90m━━━━━━━━━━━━━━━━━━━━━━━━━━━━━━━━━━━━━━━━\u001b[0m \u001b[32m12.1/12.1 MB\u001b[0m \u001b[31m20.2 MB/s\u001b[0m eta \u001b[36m0:00:00\u001b[0m\n",
            "\u001b[?25hBuilding wheels for collected packages: mpl-axes-aligner\n",
            "  Building wheel for mpl-axes-aligner (setup.py) ... \u001b[?25l\u001b[?25hdone\n",
            "  Created wheel for mpl-axes-aligner: filename=mpl_axes_aligner-1.3-py3-none-any.whl size=4755 sha256=4e3fc30cce075060b80147be9de5d9c8584c300560373227dfe504e4ce76b6f5\n",
            "  Stored in directory: /root/.cache/pip/wheels/7d/57/ec/c27bcb29ff0f39ee5a71ed59474a92503b2a0112f4a283429b\n",
            "Successfully built mpl-axes-aligner\n",
            "Installing collected packages: pandas, mpl-axes-aligner\n",
            "  Attempting uninstall: pandas\n",
            "    Found existing installation: pandas 2.2.2\n",
            "    Uninstalling pandas-2.2.2:\n",
            "      Successfully uninstalled pandas-2.2.2\n",
            "\u001b[31mERROR: pip's dependency resolver does not currently take into account all the packages that are installed. This behaviour is the source of the following dependency conflicts.\n",
            "cudf-cu12 24.10.1 requires pandas<2.2.3dev0,>=2.0, but you have pandas 1.5.3 which is incompatible.\n",
            "google-colab 1.0.0 requires pandas==2.2.2, but you have pandas 1.5.3 which is incompatible.\n",
            "mizani 0.13.0 requires pandas>=2.2.0, but you have pandas 1.5.3 which is incompatible.\n",
            "plotnine 0.14.0 requires pandas>=2.2.0, but you have pandas 1.5.3 which is incompatible.\n",
            "xarray 2024.10.0 requires pandas>=2.1, but you have pandas 1.5.3 which is incompatible.\u001b[0m\u001b[31m\n",
            "\u001b[0mSuccessfully installed mpl-axes-aligner-1.3 pandas-1.5.3\n"
          ]
        }
      ],
      "source": [
        "!pip install \"numpy<2,>=1.13\" \"pandas~=1.1\" \"matplotlib<4,>=2.1\" \"scipy<2,>=0.18\" \"scikit-learn>=0.19\" \"mpl-axes-aligner<2,>=1.1\""
      ]
    },
    {
      "cell_type": "code",
      "source": [
        "!git clone https://github.com/CANAL-amsterdam/Foundations-of-Cultural-and-Social-Data-Analysis\n",
        "%cd Foundations-of-Cultural-and-Social-Data-Analysis/01-introduction-cook-books\n",
        "!ls"
      ],
      "metadata": {
        "id": "vQiMJruP9ICd",
        "outputId": "9bfc3c3b-2356-4b88-e457-c661ff048e32",
        "colab": {
          "base_uri": "https://localhost:8080/"
        }
      },
      "id": "vQiMJruP9ICd",
      "execution_count": 2,
      "outputs": [
        {
          "output_type": "stream",
          "name": "stdout",
          "text": [
            "Cloning into 'Foundations-of-Cultural-and-Social-Data-Analysis'...\n",
            "remote: Enumerating objects: 1019, done.\u001b[K\n",
            "remote: Counting objects: 100% (98/98), done.\u001b[K\n",
            "remote: Compressing objects: 100% (92/92), done.\u001b[K\n",
            "remote: Total 1019 (delta 38), reused 21 (delta 6), pack-reused 921 (from 1)\u001b[K\n",
            "Receiving objects: 100% (1019/1019), 204.51 MiB | 14.36 MiB/s, done.\n",
            "Resolving deltas: 100% (117/117), done.\n",
            "/content/Foundations-of-Cultural-and-Social-Data-Analysis/01-introduction-cook-books\n",
            "01_chapter.ipynb  01_exercises.ipynb  data\n"
          ]
        }
      ]
    },
    {
      "cell_type": "code",
      "execution_count": 3,
      "id": "ff695cf4",
      "metadata": {
        "id": "ff695cf4"
      },
      "outputs": [],
      "source": [
        "import math\n",
        "import pandas as pd\n",
        "import matplotlib.pyplot as plt\n",
        "import scipy.stats\n",
        "from sklearn.feature_selection import chi2"
      ]
    },
    {
      "cell_type": "code",
      "execution_count": 4,
      "id": "5ec9c9b8",
      "metadata": {
        "id": "5ec9c9b8"
      },
      "outputs": [],
      "source": [
        "def plot_trend(column, df, line_color='grey', xlim=(1810, 1930)):\n",
        "    slope, intercept, _, _, _ = scipy.stats.linregress(\n",
        "        df.index, df[column].fillna(0).values)\n",
        "    ax = df[column].plot(style='o', label=column)\n",
        "    ax.plot(df.index, intercept + slope * df.index, '--',\n",
        "             color=line_color, label='_nolegend_')\n",
        "    ax.set_ylabel(\"fraction of recipes\")\n",
        "    ax.set_xlabel(\"year of publication\")\n",
        "    ax.set_xlim(xlim)"
      ]
    },
    {
      "cell_type": "code",
      "execution_count": 5,
      "metadata": {
        "id": "hospjojUed3q"
      },
      "outputs": [],
      "source": [
        "import pandas as pd\n",
        "\n",
        "df = pd.read_csv(\"data/feeding-america.csv\", index_col='date')"
      ],
      "id": "hospjojUed3q"
    },
    {
      "cell_type": "code",
      "source": [
        "print(df['region'].unique())"
      ],
      "metadata": {
        "colab": {
          "base_uri": "https://localhost:8080/"
        },
        "id": "XMKD9-KijvkK",
        "outputId": "3e374073-a59b-478a-e111-9e3c8e744ec2"
      },
      "id": "XMKD9-KijvkK",
      "execution_count": 6,
      "outputs": [
        {
          "output_type": "stream",
          "name": "stdout",
          "text": [
            "['ethnic' 'general' 'northeast' 'midwest' 'west' 'south']\n"
          ]
        }
      ]
    },
    {
      "cell_type": "code",
      "source": [
        "df['region'].value_counts()"
      ],
      "metadata": {
        "colab": {
          "base_uri": "https://localhost:8080/",
          "height": 272
        },
        "id": "pdmWgrwjehyG",
        "outputId": "b62fa52c-1818-48f7-9f09-30da23fd6dbd"
      },
      "id": "pdmWgrwjehyG",
      "execution_count": 7,
      "outputs": [
        {
          "output_type": "execute_result",
          "data": {
            "text/plain": [
              "general      35508\n",
              "ethnic        7040\n",
              "midwest       2043\n",
              "northeast     1320\n",
              "south         1094\n",
              "west          1027\n",
              "Name: region, dtype: int64"
            ],
            "text/html": [
              "<div>\n",
              "<style scoped>\n",
              "    .dataframe tbody tr th:only-of-type {\n",
              "        vertical-align: middle;\n",
              "    }\n",
              "\n",
              "    .dataframe tbody tr th {\n",
              "        vertical-align: top;\n",
              "    }\n",
              "\n",
              "    .dataframe thead th {\n",
              "        text-align: right;\n",
              "    }\n",
              "</style>\n",
              "<table border=\"1\" class=\"dataframe\">\n",
              "  <thead>\n",
              "    <tr style=\"text-align: right;\">\n",
              "      <th></th>\n",
              "      <th>region</th>\n",
              "    </tr>\n",
              "  </thead>\n",
              "  <tbody>\n",
              "    <tr>\n",
              "      <th>general</th>\n",
              "      <td>35508</td>\n",
              "    </tr>\n",
              "    <tr>\n",
              "      <th>ethnic</th>\n",
              "      <td>7040</td>\n",
              "    </tr>\n",
              "    <tr>\n",
              "      <th>midwest</th>\n",
              "      <td>2043</td>\n",
              "    </tr>\n",
              "    <tr>\n",
              "      <th>northeast</th>\n",
              "      <td>1320</td>\n",
              "    </tr>\n",
              "    <tr>\n",
              "      <th>south</th>\n",
              "      <td>1094</td>\n",
              "    </tr>\n",
              "    <tr>\n",
              "      <th>west</th>\n",
              "      <td>1027</td>\n",
              "    </tr>\n",
              "  </tbody>\n",
              "</table>\n",
              "</div><br><label><b>dtype:</b> int64</label>"
            ]
          },
          "metadata": {},
          "execution_count": 7
        }
      ]
    },
    {
      "cell_type": "code",
      "source": [
        "df['region'].value_counts().plot(kind='bar', width=0.8)"
      ],
      "metadata": {
        "colab": {
          "base_uri": "https://localhost:8080/",
          "height": 500
        },
        "id": "mxWi8497e3lX",
        "outputId": "0389b432-54f5-48f8-d5d8-8b311c5211b3"
      },
      "id": "mxWi8497e3lX",
      "execution_count": 9,
      "outputs": [
        {
          "output_type": "execute_result",
          "data": {
            "text/plain": [
              "<Axes: >"
            ]
          },
          "metadata": {},
          "execution_count": 9
        },
        {
          "output_type": "display_data",
          "data": {
            "text/plain": [
              "<Figure size 640x480 with 1 Axes>"
            ],
            "image/png": "[encoded data removed]"
          },
          "metadata": {}
        }
      ]
    },
    {
      "cell_type": "code",
      "source": [
        "ingredients = df['ingredients'].str.split(';')\n",
        "groups = ingredients.groupby('date')\n",
        "ingredients = groups.sum()\n",
        "ingredients = ingredients.apply(pd.Series.value_counts)\n",
        "grouped = df.groupby('date')\n",
        "recipe_counts = grouped.size()\n",
        "ingredients = ingredients.divide(recipe_counts, 0)"
      ],
      "metadata": {
        "id": "EXElXbWIgijs"
      },
      "id": "EXElXbWIgijs",
      "execution_count": 8,
      "outputs": []
    },
    {
      "cell_type": "code",
      "source": [
        "ingredients.head()"
      ],
      "metadata": {
        "colab": {
          "base_uri": "https://localhost:8080/",
          "height": 321
        },
        "id": "CV7tTrAWmvq5",
        "outputId": "0c3b5b1a-7207-4f28-f830-1628ee4b8a54"
      },
      "id": "CV7tTrAWmvq5",
      "execution_count": 9,
      "outputs": [
        {
          "output_type": "execute_result",
          "data": {
            "text/plain": [
              "        butter      salt     water     flour    nutmeg    pepper     sugar  \\\n",
              "date                                                                         \n",
              "1803  0.570796  0.435841  0.409292  0.351770  0.272124  0.267699  0.205752   \n",
              "1807  0.357374  0.349839  0.395048  0.219591  0.132400  0.194833  0.274489   \n",
              "1808  0.531401  0.371981  0.391304  0.352657  0.260870  0.149758  0.396135   \n",
              "1815  0.398551  0.315217  0.322464  0.431159  0.152174  0.083333  0.387681   \n",
              "1827       NaN  0.066667  0.600000       NaN  0.033333  0.033333  0.400000   \n",
              "\n",
              "         lemon      mace       egg  ...  tomato in hot water  farina cream  \\\n",
              "date                                ...                                      \n",
              "1803  0.205752  0.188053  0.150442  ...                  NaN           NaN   \n",
              "1807  0.104413  0.134553  0.177610  ...                  NaN           NaN   \n",
              "1808  0.115942  0.140097  0.294686  ...                  NaN           NaN   \n",
              "1815  0.018116  0.036232  0.347826  ...                  NaN           NaN   \n",
              "1827  0.200000       NaN  0.033333  ...                  NaN           NaN   \n",
              "\n",
              "      pearl grit  chicken okra  tournedo  avocado  rock cod fillet  \\\n",
              "date                                                                 \n",
              "1803         NaN           NaN       NaN      NaN              NaN   \n",
              "1807         NaN           NaN       NaN      NaN              NaN   \n",
              "1808         NaN           NaN       NaN      NaN              NaN   \n",
              "1815         NaN           NaN       NaN      NaN              NaN   \n",
              "1827         NaN           NaN       NaN      NaN              NaN   \n",
              "\n",
              "      perch fillet  lime yeast  dried flower  \n",
              "date                                          \n",
              "1803           NaN         NaN           NaN  \n",
              "1807           NaN         NaN           NaN  \n",
              "1808           NaN         NaN           NaN  \n",
              "1815           NaN         NaN           NaN  \n",
              "1827           NaN         NaN           NaN  \n",
              "\n",
              "[5 rows x 3532 columns]"
            ],
            "text/html": [
              "\n",
              "  <div id=\"df-97ee606a-cbbd-4587-a7da-c0c88cf23807\" class=\"colab-df-container\">\n",
              "    <div>\n",
              "<style scoped>\n",
              "    .dataframe tbody tr th:only-of-type {\n",
              "        vertical-align: middle;\n",
              "    }\n",
              "\n",
              "    .dataframe tbody tr th {\n",
              "        vertical-align: top;\n",
              "    }\n",
              "\n",
              "    .dataframe thead th {\n",
              "        text-align: right;\n",
              "    }\n",
              "</style>\n",
              "<table border=\"1\" class=\"dataframe\">\n",
              "  <thead>\n",
              "    <tr style=\"text-align: right;\">\n",
              "      <th></th>\n",
              "      <th>butter</th>\n",
              "      <th>salt</th>\n",
              "      <th>water</th>\n",
              "      <th>flour</th>\n",
              "      <th>nutmeg</th>\n",
              "      <th>pepper</th>\n",
              "      <th>sugar</th>\n",
              "      <th>lemon</th>\n",
              "      <th>mace</th>\n",
              "      <th>egg</th>\n",
              "      <th>...</th>\n",
              "      <th>tomato in hot water</th>\n",
              "      <th>farina cream</th>\n",
              "      <th>pearl grit</th>\n",
              "      <th>chicken okra</th>\n",
              "      <th>tournedo</th>\n",
              "      <th>avocado</th>\n",
              "      <th>rock cod fillet</th>\n",
              "      <th>perch fillet</th>\n",
              "      <th>lime yeast</th>\n",
              "      <th>dried flower</th>\n",
              "    </tr>\n",
              "    <tr>\n",
              "      <th>date</th>\n",
              "      <th></th>\n",
              "      <th></th>\n",
              "      <th></th>\n",
              "      <th></th>\n",
              "      <th></th>\n",
              "      <th></th>\n",
              "      <th></th>\n",
              "      <th></th>\n",
              "      <th></th>\n",
              "      <th></th>\n",
              "      <th></th>\n",
              "      <th></th>\n",
              "      <th></th>\n",
              "      <th></th>\n",
              "      <th></th>\n",
              "      <th></th>\n",
              "      <th></th>\n",
              "      <th></th>\n",
              "      <th></th>\n",
              "      <th></th>\n",
              "      <th></th>\n",
              "    </tr>\n",
              "  </thead>\n",
              "  <tbody>\n",
              "    <tr>\n",
              "      <th>1803</th>\n",
              "      <td>0.570796</td>\n",
              "      <td>0.435841</td>\n",
              "      <td>0.409292</td>\n",
              "      <td>0.351770</td>\n",
              "      <td>0.272124</td>\n",
              "      <td>0.267699</td>\n",
              "      <td>0.205752</td>\n",
              "      <td>0.205752</td>\n",
              "      <td>0.188053</td>\n",
              "      <td>0.150442</td>\n",
              "      <td>...</td>\n",
              "      <td>NaN</td>\n",
              "      <td>NaN</td>\n",
              "      <td>NaN</td>\n",
              "      <td>NaN</td>\n",
              "      <td>NaN</td>\n",
              "      <td>NaN</td>\n",
              "      <td>NaN</td>\n",
              "      <td>NaN</td>\n",
              "      <td>NaN</td>\n",
              "      <td>NaN</td>\n",
              "    </tr>\n",
              "    <tr>\n",
              "      <th>1807</th>\n",
              "      <td>0.357374</td>\n",
              "      <td>0.349839</td>\n",
              "      <td>0.395048</td>\n",
              "      <td>0.219591</td>\n",
              "      <td>0.132400</td>\n",
              "      <td>0.194833</td>\n",
              "      <td>0.274489</td>\n",
              "      <td>0.104413</td>\n",
              "      <td>0.134553</td>\n",
              "      <td>0.177610</td>\n",
              "      <td>...</td>\n",
              "      <td>NaN</td>\n",
              "      <td>NaN</td>\n",
              "      <td>NaN</td>\n",
              "      <td>NaN</td>\n",
              "      <td>NaN</td>\n",
              "      <td>NaN</td>\n",
              "      <td>NaN</td>\n",
              "      <td>NaN</td>\n",
              "      <td>NaN</td>\n",
              "      <td>NaN</td>\n",
              "    </tr>\n",
              "    <tr>\n",
              "      <th>1808</th>\n",
              "      <td>0.531401</td>\n",
              "      <td>0.371981</td>\n",
              "      <td>0.391304</td>\n",
              "      <td>0.352657</td>\n",
              "      <td>0.260870</td>\n",
              "      <td>0.149758</td>\n",
              "      <td>0.396135</td>\n",
              "      <td>0.115942</td>\n",
              "      <td>0.140097</td>\n",
              "      <td>0.294686</td>\n",
              "      <td>...</td>\n",
              "      <td>NaN</td>\n",
              "      <td>NaN</td>\n",
              "      <td>NaN</td>\n",
              "      <td>NaN</td>\n",
              "      <td>NaN</td>\n",
              "      <td>NaN</td>\n",
              "      <td>NaN</td>\n",
              "      <td>NaN</td>\n",
              "      <td>NaN</td>\n",
              "      <td>NaN</td>\n",
              "    </tr>\n",
              "    <tr>\n",
              "      <th>1815</th>\n",
              "      <td>0.398551</td>\n",
              "      <td>0.315217</td>\n",
              "      <td>0.322464</td>\n",
              "      <td>0.431159</td>\n",
              "      <td>0.152174</td>\n",
              "      <td>0.083333</td>\n",
              "      <td>0.387681</td>\n",
              "      <td>0.018116</td>\n",
              "      <td>0.036232</td>\n",
              "      <td>0.347826</td>\n",
              "      <td>...</td>\n",
              "      <td>NaN</td>\n",
              "      <td>NaN</td>\n",
              "      <td>NaN</td>\n",
              "      <td>NaN</td>\n",
              "      <td>NaN</td>\n",
              "      <td>NaN</td>\n",
              "      <td>NaN</td>\n",
              "      <td>NaN</td>\n",
              "      <td>NaN</td>\n",
              "      <td>NaN</td>\n",
              "    </tr>\n",
              "    <tr>\n",
              "      <th>1827</th>\n",
              "      <td>NaN</td>\n",
              "      <td>0.066667</td>\n",
              "      <td>0.600000</td>\n",
              "      <td>NaN</td>\n",
              "      <td>0.033333</td>\n",
              "      <td>0.033333</td>\n",
              "      <td>0.400000</td>\n",
              "      <td>0.200000</td>\n",
              "      <td>NaN</td>\n",
              "      <td>0.033333</td>\n",
              "      <td>...</td>\n",
              "      <td>NaN</td>\n",
              "      <td>NaN</td>\n",
              "      <td>NaN</td>\n",
              "      <td>NaN</td>\n",
              "      <td>NaN</td>\n",
              "      <td>NaN</td>\n",
              "      <td>NaN</td>\n",
              "      <td>NaN</td>\n",
              "      <td>NaN</td>\n",
              "      <td>NaN</td>\n",
              "    </tr>\n",
              "  </tbody>\n",
              "</table>\n",
              "<p>5 rows × 3532 columns</p>\n",
              "</div>\n",
              "    <div class=\"colab-df-buttons\">\n",
              "\n",
              "  <div class=\"colab-df-container\">\n",
              "    <button class=\"colab-df-convert\" onclick=\"convertToInteractive('df-97ee606a-cbbd-4587-a7da-c0c88cf23807')\"\n",
              "            title=\"Convert this dataframe to an interactive table.\"\n",
              "            style=\"display:none;\">\n",
              "\n",
              "  <svg xmlns=\"http://www.w3.org/2000/svg\" height=\"24px\" viewBox=\"0 -960 960 960\">\n",
              "    <path d=\"M120-120v-720h720v720H120Zm60-500h600v-160H180v160Zm220 220h160v-160H400v160Zm0 220h160v-160H400v160ZM180-400h160v-160H180v160Zm440 0h160v-160H620v160ZM180-180h160v-160H180v160Zm440 0h160v-160H620v160Z\"/>\n",
              "  </svg>\n",
              "    </button>\n",
              "\n",
              "  <style>\n",
              "    .colab-df-container {\n",
              "      display:flex;\n",
              "      gap: 12px;\n",
              "    }\n",
              "\n",
              "    .colab-df-convert {\n",
              "      background-color: #E8F0FE;\n",
              "      border: none;\n",
              "      border-radius: 50%;\n",
              "      cursor: pointer;\n",
              "      display: none;\n",
              "      fill: #1967D2;\n",
              "      height: 32px;\n",
              "      padding: 0 0 0 0;\n",
              "      width: 32px;\n",
              "    }\n",
              "\n",
              "    .colab-df-convert:hover {\n",
              "      background-color: #E2EBFA;\n",
              "      box-shadow: 0px 1px 2px rgba(60, 64, 67, 0.3), 0px 1px 3px 1px rgba(60, 64, 67, 0.15);\n",
              "      fill: #174EA6;\n",
              "    }\n",
              "\n",
              "    .colab-df-buttons div {\n",
              "      margin-bottom: 4px;\n",
              "    }\n",
              "\n",
              "    [theme=dark] .colab-df-convert {\n",
              "      background-color: #3B4455;\n",
              "      fill: #D2E3FC;\n",
              "    }\n",
              "\n",
              "    [theme=dark] .colab-df-convert:hover {\n",
              "      background-color: #434B5C;\n",
              "      box-shadow: 0px 1px 3px 1px rgba(0, 0, 0, 0.15);\n",
              "      filter: drop-shadow(0px 1px 2px rgba(0, 0, 0, 0.3));\n",
              "      fill: #FFFFFF;\n",
              "    }\n",
              "  </style>\n",
              "\n",
              "    <script>\n",
              "      const buttonEl =\n",
              "        document.querySelector('#df-97ee606a-cbbd-4587-a7da-c0c88cf23807 button.colab-df-convert');\n",
              "      buttonEl.style.display =\n",
              "        google.colab.kernel.accessAllowed ? 'block' : 'none';\n",
              "\n",
              "      async function convertToInteractive(key) {\n",
              "        const element = document.querySelector('#df-97ee606a-cbbd-4587-a7da-c0c88cf23807');\n",
              "        const dataTable =\n",
              "          await google.colab.kernel.invokeFunction('convertToInteractive',\n",
              "                                                    [key], {});\n",
              "        if (!dataTable) return;\n",
              "\n",
              "        const docLinkHtml = 'Like what you see? Visit the ' +\n",
              "          '<a target=\"_blank\" href=https://colab.research.google.com/notebooks/data_table.ipynb>data table notebook</a>'\n",
              "          + ' to learn more about interactive tables.';\n",
              "        element.innerHTML = '';\n",
              "        dataTable['output_type'] = 'display_data';\n",
              "        await google.colab.output.renderOutput(dataTable, element);\n",
              "        const docLink = document.createElement('div');\n",
              "        docLink.innerHTML = docLinkHtml;\n",
              "        element.appendChild(docLink);\n",
              "      }\n",
              "    </script>\n",
              "  </div>\n",
              "\n",
              "\n",
              "<div id=\"df-2635d2a8-2630-4753-8ac6-ad4d152983c4\">\n",
              "  <button class=\"colab-df-quickchart\" onclick=\"quickchart('df-2635d2a8-2630-4753-8ac6-ad4d152983c4')\"\n",
              "            title=\"Suggest charts\"\n",
              "            style=\"display:none;\">\n",
              "\n",
              "<svg xmlns=\"http://www.w3.org/2000/svg\" height=\"24px\"viewBox=\"0 0 24 24\"\n",
              "     width=\"24px\">\n",
              "    <g>\n",
              "        <path d=\"M19 3H5c-1.1 0-2 .9-2 2v14c0 1.1.9 2 2 2h14c1.1 0 2-.9 2-2V5c0-1.1-.9-2-2-2zM9 17H7v-7h2v7zm4 0h-2V7h2v10zm4 0h-2v-4h2v4z\"/>\n",
              "    </g>\n",
              "</svg>\n",
              "  </button>\n",
              "\n",
              "<style>\n",
              "  .colab-df-quickchart {\n",
              "      --bg-color: #E8F0FE;\n",
              "      --fill-color: #1967D2;\n",
              "      --hover-bg-color: #E2EBFA;\n",
              "      --hover-fill-color: #174EA6;\n",
              "      --disabled-fill-color: #AAA;\n",
              "      --disabled-bg-color: #DDD;\n",
              "  }\n",
              "\n",
              "  [theme=dark] .colab-df-quickchart {\n",
              "      --bg-color: #3B4455;\n",
              "      --fill-color: #D2E3FC;\n",
              "      --hover-bg-color: #434B5C;\n",
              "      --hover-fill-color: #FFFFFF;\n",
              "      --disabled-bg-color: #3B4455;\n",
              "      --disabled-fill-color: #666;\n",
              "  }\n",
              "\n",
              "  .colab-df-quickchart {\n",
              "    background-color: var(--bg-color);\n",
              "    border: none;\n",
              "    border-radius: 50%;\n",
              "    cursor: pointer;\n",
              "    display: none;\n",
              "    fill: var(--fill-color);\n",
              "    height: 32px;\n",
              "    padding: 0;\n",
              "    width: 32px;\n",
              "  }\n",
              "\n",
              "  .colab-df-quickchart:hover {\n",
              "    background-color: var(--hover-bg-color);\n",
              "    box-shadow: 0 1px 2px rgba(60, 64, 67, 0.3), 0 1px 3px 1px rgba(60, 64, 67, 0.15);\n",
              "    fill: var(--button-hover-fill-color);\n",
              "  }\n",
              "\n",
              "  .colab-df-quickchart-complete:disabled,\n",
              "  .colab-df-quickchart-complete:disabled:hover {\n",
              "    background-color: var(--disabled-bg-color);\n",
              "    fill: var(--disabled-fill-color);\n",
              "    box-shadow: none;\n",
              "  }\n",
              "\n",
              "  .colab-df-spinner {\n",
              "    border: 2px solid var(--fill-color);\n",
              "    border-color: transparent;\n",
              "    border-bottom-color: var(--fill-color);\n",
              "    animation:\n",
              "      spin 1s steps(1) infinite;\n",
              "  }\n",
              "\n",
              "  @keyframes spin {\n",
              "    0% {\n",
              "      border-color: transparent;\n",
              "      border-bottom-color: var(--fill-color);\n",
              "      border-left-color: var(--fill-color);\n",
              "    }\n",
              "    20% {\n",
              "      border-color: transparent;\n",
              "      border-left-color: var(--fill-color);\n",
              "      border-top-color: var(--fill-color);\n",
              "    }\n",
              "    30% {\n",
              "      border-color: transparent;\n",
              "      border-left-color: var(--fill-color);\n",
              "      border-top-color: var(--fill-color);\n",
              "      border-right-color: var(--fill-color);\n",
              "    }\n",
              "    40% {\n",
              "      border-color: transparent;\n",
              "      border-right-color: var(--fill-color);\n",
              "      border-top-color: var(--fill-color);\n",
              "    }\n",
              "    60% {\n",
              "      border-color: transparent;\n",
              "      border-right-color: var(--fill-color);\n",
              "    }\n",
              "    80% {\n",
              "      border-color: transparent;\n",
              "      border-right-color: var(--fill-color);\n",
              "      border-bottom-color: var(--fill-color);\n",
              "    }\n",
              "    90% {\n",
              "      border-color: transparent;\n",
              "      border-bottom-color: var(--fill-color);\n",
              "    }\n",
              "  }\n",
              "</style>\n",
              "\n",
              "  <script>\n",
              "    async function quickchart(key) {\n",
              "      const quickchartButtonEl =\n",
              "        document.querySelector('#' + key + ' button');\n",
              "      quickchartButtonEl.disabled = true;  // To prevent multiple clicks.\n",
              "      quickchartButtonEl.classList.add('colab-df-spinner');\n",
              "      try {\n",
              "        const charts = await google.colab.kernel.invokeFunction(\n",
              "            'suggestCharts', [key], {});\n",
              "      } catch (error) {\n",
              "        console.error('Error during call to suggestCharts:', error);\n",
              "      }\n",
              "      quickchartButtonEl.classList.remove('colab-df-spinner');\n",
              "      quickchartButtonEl.classList.add('colab-df-quickchart-complete');\n",
              "    }\n",
              "    (() => {\n",
              "      let quickchartButtonEl =\n",
              "        document.querySelector('#df-2635d2a8-2630-4753-8ac6-ad4d152983c4 button');\n",
              "      quickchartButtonEl.style.display =\n",
              "        google.colab.kernel.accessAllowed ? 'block' : 'none';\n",
              "    })();\n",
              "  </script>\n",
              "</div>\n",
              "\n",
              "    </div>\n",
              "  </div>\n"
            ],
            "application/vnd.google.colaboratory.intrinsic+json": {
              "type": "dataframe",
              "variable_name": "ingredients"
            }
          },
          "metadata": {},
          "execution_count": 9
        }
      ]
    },
    {
      "cell_type": "code",
      "source": [
        "import scipy.stats\n",
        "\n",
        "def plot_trend(column, df, line_color='grey', xlim=(1810, 1930)):\n",
        "    slope, intercept, _, _, _ = scipy.stats.linregress(\n",
        "        df.index, df[column].fillna(0).values)\n",
        "    ax = df[column].plot(style='o', label=column)\n",
        "    ax.plot(df.index, intercept + slope * df.index, '--',\n",
        "             color=line_color, label='_nolegend_')\n",
        "    ax.set_ylabel(\"fraction of recipes\")\n",
        "    ax.set_xlabel(\"year of publication\")\n",
        "    ax.set_xlim(xlim)"
      ],
      "metadata": {
        "id": "C-L1SpyO6Zb5"
      },
      "id": "C-L1SpyO6Zb5",
      "execution_count": 10,
      "outputs": []
    },
    {
      "cell_type": "code",
      "source": [
        "plot_trend('butter', ingredients)\n",
        "plot_trend('pepper', ingredients)\n",
        "plot_trend('lemon', ingredients)\n",
        "plt.legend()"
      ],
      "metadata": {
        "colab": {
          "base_uri": "https://localhost:8080/",
          "height": 466
        },
        "id": "27wyXMfjNd1W",
        "outputId": "0ba2f5e8-c811-4a2d-9f21-011d735391bb"
      },
      "id": "27wyXMfjNd1W",
      "execution_count": 11,
      "outputs": [
        {
          "output_type": "execute_result",
          "data": {
            "text/plain": [
              "<matplotlib.legend.Legend at 0x7b561d95bd30>"
            ]
          },
          "metadata": {},
          "execution_count": 11
        },
        {
          "output_type": "display_data",
          "data": {
            "text/plain": [
              "<Figure size 640x480 with 1 Axes>"
            ],
            "image/png": "[encoded data removed]"
          },
          "metadata": {}
        }
      ]
    },
    {
      "cell_type": "code",
      "source": [
        "from sklearn.feature_selection import chi2\n",
        "\n",
        "labels = ['Pre-civil war' if year <1864 else 'Post-civil war' for year in ingredients.index]\n",
        "keyness, _ = chi2(ingredients.fillna(0), labels)\n",
        "keyness = pd.Series(keyness, index=ingredients.columns)\n",
        "keyness.sort_values(ascending=False)"
      ],
      "metadata": {
        "colab": {
          "base_uri": "https://localhost:8080/",
          "height": 458
        },
        "id": "bbQOZXESOgAp",
        "outputId": "415fc057-437f-4779-d9b0-058bbfaab7f0"
      },
      "id": "bbQOZXESOgAp",
      "execution_count": 12,
      "outputs": [
        {
          "output_type": "execute_result",
          "data": {
            "text/plain": [
              "nutmeg                 1.072078e+00\n",
              "rice water             1.057412e+00\n",
              "loaf sugar             1.057213e+00\n",
              "mace                   9.559773e-01\n",
              "pearlash               7.593178e-01\n",
              "                           ...     \n",
              "portugal onion         1.061464e-09\n",
              "powdered lump sugar    1.061464e-09\n",
              "pig face               1.061464e-09\n",
              "biscuit powder         1.061464e-09\n",
              "fennel seed            3.618088e-11\n",
              "Length: 3532, dtype: float64"
            ],
            "text/html": [
              "<div>\n",
              "<style scoped>\n",
              "    .dataframe tbody tr th:only-of-type {\n",
              "        vertical-align: middle;\n",
              "    }\n",
              "\n",
              "    .dataframe tbody tr th {\n",
              "        vertical-align: top;\n",
              "    }\n",
              "\n",
              "    .dataframe thead th {\n",
              "        text-align: right;\n",
              "    }\n",
              "</style>\n",
              "<table border=\"1\" class=\"dataframe\">\n",
              "  <thead>\n",
              "    <tr style=\"text-align: right;\">\n",
              "      <th></th>\n",
              "      <th>0</th>\n",
              "    </tr>\n",
              "  </thead>\n",
              "  <tbody>\n",
              "    <tr>\n",
              "      <th>nutmeg</th>\n",
              "      <td>1.072078e+00</td>\n",
              "    </tr>\n",
              "    <tr>\n",
              "      <th>rice water</th>\n",
              "      <td>1.057412e+00</td>\n",
              "    </tr>\n",
              "    <tr>\n",
              "      <th>loaf sugar</th>\n",
              "      <td>1.057213e+00</td>\n",
              "    </tr>\n",
              "    <tr>\n",
              "      <th>mace</th>\n",
              "      <td>9.559773e-01</td>\n",
              "    </tr>\n",
              "    <tr>\n",
              "      <th>pearlash</th>\n",
              "      <td>7.593178e-01</td>\n",
              "    </tr>\n",
              "    <tr>\n",
              "      <th>...</th>\n",
              "      <td>...</td>\n",
              "    </tr>\n",
              "    <tr>\n",
              "      <th>portugal onion</th>\n",
              "      <td>1.061464e-09</td>\n",
              "    </tr>\n",
              "    <tr>\n",
              "      <th>powdered lump sugar</th>\n",
              "      <td>1.061464e-09</td>\n",
              "    </tr>\n",
              "    <tr>\n",
              "      <th>pig face</th>\n",
              "      <td>1.061464e-09</td>\n",
              "    </tr>\n",
              "    <tr>\n",
              "      <th>biscuit powder</th>\n",
              "      <td>1.061464e-09</td>\n",
              "    </tr>\n",
              "    <tr>\n",
              "      <th>fennel seed</th>\n",
              "      <td>3.618088e-11</td>\n",
              "    </tr>\n",
              "  </tbody>\n",
              "</table>\n",
              "<p>3532 rows × 1 columns</p>\n",
              "</div><br><label><b>dtype:</b> float64</label>"
            ]
          },
          "metadata": {},
          "execution_count": 12
        }
      ]
    },
    {
      "cell_type": "code",
      "source": [
        "topkey = keyness.head(10)"
      ],
      "metadata": {
        "id": "Uiw13zR57cwN"
      },
      "id": "Uiw13zR57cwN",
      "execution_count": 15,
      "outputs": []
    },
    {
      "cell_type": "code",
      "source": [
        "topkey.plot(kind='bar', width=0.8)"
      ],
      "metadata": {
        "id": "ZecYgjDM8yBp",
        "outputId": "1e3af48d-9034-40ab-c160-5fd97b95f293",
        "colab": {
          "base_uri": "https://localhost:8080/",
          "height": 487
        }
      },
      "id": "ZecYgjDM8yBp",
      "execution_count": 16,
      "outputs": [
        {
          "output_type": "execute_result",
          "data": {
            "text/plain": [
              "<Axes: >"
            ]
          },
          "metadata": {},
          "execution_count": 16
        },
        {
          "output_type": "display_data",
          "data": {
            "text/plain": [
              "<Figure size 640x480 with 1 Axes>"
            ],
            "image/png": "[encoded data removed]"
          },
          "metadata": {}
        }
      ]
    },
    {
      "cell_type": "code",
      "source": [
        "plot_trend('baking powder', ingredients, xlim=(1864, 1930))"
      ],
      "metadata": {
        "id": "_-qj6yK2-Muu",
        "outputId": "b40a92f6-d29a-4237-bfcf-853c025626f7",
        "colab": {
          "base_uri": "https://localhost:8080/",
          "height": 449
        }
      },
      "id": "_-qj6yK2-Muu",
      "execution_count": 17,
      "outputs": [
        {
          "output_type": "display_data",
          "data": {
            "text/plain": [
              "<Figure size 640x480 with 1 Axes>"
            ],
            "image/png": "[encoded data removed]"
          },
          "metadata": {}
        }
      ]
    },
    {
      "cell_type": "code",
      "source": [
        "recipeclass = df['recipe_class'].str.split(';')\n",
        "groups = recipeclass.groupby('date')\n",
        "recipeclass = groups.sum()\n",
        "recipeclass = recipeclass.apply(pd.Series.value_counts)\n",
        "grouped = df.groupby('date')\n",
        "recipe_counts = grouped.size()\n",
        "recipeclass = recipeclass.divide(recipe_counts, 0)"
      ],
      "metadata": {
        "id": "jyZSzEdP-vId"
      },
      "id": "jyZSzEdP-vId",
      "execution_count": 22,
      "outputs": []
    },
    {
      "cell_type": "code",
      "source": [
        "plot_trend('breadsweets', recipeclass , xlim=(1864, 1930))"
      ],
      "metadata": {
        "id": "AfpQ2SVE-hq5",
        "outputId": "68f2e696-cfd0-4743-ac4e-39b5b7e30017",
        "colab": {
          "base_uri": "https://localhost:8080/",
          "height": 449
        }
      },
      "id": "AfpQ2SVE-hq5",
      "execution_count": 23,
      "outputs": [
        {
          "output_type": "display_data",
          "data": {
            "text/plain": [
              "<Figure size 640x480 with 1 Axes>"
            ],
            "image/png": "[encoded data removed]"
          },
          "metadata": {}
        }
      ]
    },
    {
      "cell_type": "markdown",
      "id": "1c82301b",
      "metadata": {
        "id": "1c82301b"
      },
      "source": [
        "## Exercises\n",
        "\n",
        "### Easy\n",
        "1. Load the cookbook data set, and extract the \"region\" column. Print the number of unique\n",
        "   regions in the data set.\n",
        "2. Using the same \"region\" column, produce a frequency distribution of the regions in the\n",
        "   data.\n",
        "3. Create a bar plot of the different regions annotated in the dataset.\n",
        "\n",
        "### Moderate\n",
        "1. Use the function `plot_trend()` to create a time series plot for three or more ingredients of your\n",
        "   own choice.\n",
        "2. Go back to section `Taste Trends in Culinary US History`. Create a bar plot of\n",
        "   the ten most distinctive ingredients for the pre- and postwar era using as keyness\n",
        "   measure the Pearson's $\\chi^2$ test statistic.\n",
        "3. With the invention of baking powder, cooking efficiency went up. Could there be a\n",
        "   relationship between the increased use of baking powder and the number of recipes\n",
        "   describing cakes, sweets, and bread? (The latter recipes have the value `\"breadsweets\"`\n",
        "   in the `recipe_class` column in the original data.) Produce two time series plots: one\n",
        "   for the absolute number of recipes involving baking powder as ingredient, and a second\n",
        "   plotting the absolute number `\"breadsweets\"` recipes over time.\n",
        "\n",
        "### Challenging\n",
        "1. Use the code to produce the scatter plot from section\n",
        "   `Taste Trends in Culinary US History`, and experiment with different time frame\n",
        "   settings to find distinctive words for other time periods. For example, can you compare\n",
        "   twentieth-century recipes to nineteenth-century recipes?\n",
        "2. Adapt the scatter plot code from section\n",
        "   `America's Culinary Melting Pot` to find distinctive ingredients for\n",
        "   two specific ethnic groups. (You could, for instance, contrast typical ingredients from\n",
        "   the Jewish cuisine with those from the Creole culinary tradition.) How do these results\n",
        "   differ from the ethnicity plot we created before? (Hint: For this\n",
        "   exercise, you could simply adapt the very final code block of the chapter and use the\n",
        "   somewhat simplified keyness measure proposed there.)\n",
        "3. Use the \"region\" column to create a scatter plot of distinctive ingredients in the\n",
        "   northeast of the United States versus the ingredients used in the midwest. To make\n",
        "   things harder on yourself, you could use Pearson's $\\chi^2$ test statistic as a keyness\n",
        "   measure."
      ]
    }
  ],
  "metadata": {
    "jupytext": {
      "cell_metadata_filter": "-all",
      "formats": "md:myst",
      "text_representation": {
        "extension": ".md",
        "format_name": "myst",
        "format_version": 0.13,
        "jupytext_version": "1.10.3"
      }
    },
    "kernelspec": {
      "display_name": "Python 3 (ipykernel)",
      "language": "python",
      "name": "python3"
    },
    "language_info": {
      "codemirror_mode": {
        "name": "ipython",
        "version": 3
      },
      "file_extension": ".py",
      "mimetype": "text/x-python",
      "name": "python",
      "nbconvert_exporter": "python",
      "pygments_lexer": "ipython3",
      "version": "3.9.19"
    },
    "source_map": [
      16,
      20,
      245,
      247,
      254,
      256,
      264,
      266,
      278,
      282,
      290,
      293,
      297,
      301,
      307,
      311,
      316,
      318,
      323,
      325,
      334,
      339,
      354,
      356,
      362,
      365,
      373,
      385,
      392,
      397,
      517,
      521,
      533,
      535,
      546,
      548,
      556,
      558,
      566,
      568,
      578,
      580,
      590,
      598,
      626,
      637,
      647,
      649,
      666,
      670,
      680,
      694,
      696,
      714,
      718,
      738,
      740,
      764,
      775,
      780,
      782,
      805,
      829,
      896,
      898,
      911,
      928,
      947,
      977
    ],
    "colab": {
      "provenance": [],
      "include_colab_link": true
    }
  },
  "nbformat": 4,
  "nbformat_minor": 5
}